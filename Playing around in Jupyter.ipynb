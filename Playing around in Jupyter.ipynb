{
 "cells": [
  {
   "cell_type": "markdown",
   "id": "cff167bb",
   "metadata": {},
   "source": [
    "# Hello World!"
   ]
  },
  {
   "cell_type": "code",
   "execution_count": 4,
   "id": "4e47830f",
   "metadata": {
    "scrolled": true
   },
   "outputs": [
    {
     "name": "stdout",
     "output_type": "stream",
     "text": [
      "Hello World!\n"
     ]
    }
   ],
   "source": [
    "print(\"Hello World!\")"
   ]
  },
  {
   "cell_type": "code",
   "execution_count": 4,
   "id": "f5415e84",
   "metadata": {},
   "outputs": [],
   "source": [
    "# Import libraries (packages)\n",
    "import numpy as np #library for working with matrices and arrays\n",
    "import pandas as pd #library for working with data frames\n",
    "import matplotlib.pyplot as plt #library for plotting (visualization)"
   ]
  },
  {
   "cell_type": "markdown",
   "id": "1f0ecd19",
   "metadata": {},
   "source": [
    "# Working with NumPy Arrays"
   ]
  },
  {
   "cell_type": "code",
   "execution_count": 13,
   "id": "a279e07b",
   "metadata": {},
   "outputs": [],
   "source": [
    "# Create NumPy arrays\n",
    "arr1 = np.array([10, 12, 14, 15, 9])\n",
    "arr2 = np.array([11, 10, 16, 15, 10])"
   ]
  },
  {
   "cell_type": "code",
   "execution_count": 9,
   "id": "c83370f2",
   "metadata": {},
   "outputs": [
    {
     "data": {
      "text/plain": [
       "5"
      ]
     },
     "execution_count": 9,
     "metadata": {},
     "output_type": "execute_result"
    }
   ],
   "source": [
    "# Find the length of an array\n",
    "len(arr1)"
   ]
  },
  {
   "cell_type": "code",
   "execution_count": 10,
   "id": "b57488d5",
   "metadata": {},
   "outputs": [
    {
     "data": {
      "text/plain": [
       "True"
      ]
     },
     "execution_count": 10,
     "metadata": {},
     "output_type": "execute_result"
    }
   ],
   "source": [
    "# Check if arrays are the same length\n",
    "len(arr1) == len(arr2)"
   ]
  },
  {
   "cell_type": "code",
   "execution_count": 11,
   "id": "9a7c5eda",
   "metadata": {},
   "outputs": [
    {
     "data": {
      "text/plain": [
       "array([100, 144, 196, 225,  81])"
      ]
     },
     "execution_count": 11,
     "metadata": {},
     "output_type": "execute_result"
    }
   ],
   "source": [
    "# Square an array\n",
    "np.square(arr1)"
   ]
  },
  {
   "cell_type": "code",
   "execution_count": 14,
   "id": "b8e91f4f",
   "metadata": {},
   "outputs": [
    {
     "data": {
      "text/plain": [
       "62"
      ]
     },
     "execution_count": 14,
     "metadata": {},
     "output_type": "execute_result"
    }
   ],
   "source": [
    "# Get the sum of an array\n",
    "np.sum(arr2)"
   ]
  },
  {
   "cell_type": "code",
   "execution_count": 15,
   "id": "3e8a083c",
   "metadata": {},
   "outputs": [
    {
     "data": {
      "text/plain": [
       "array([ 1, -2,  2,  0,  1])"
      ]
     },
     "execution_count": 15,
     "metadata": {},
     "output_type": "execute_result"
    }
   ],
   "source": [
    "# Get the difference of two arrays\n",
    "arr2 - arr1"
   ]
  },
  {
   "cell_type": "code",
   "execution_count": 16,
   "id": "34f082a6",
   "metadata": {},
   "outputs": [
    {
     "data": {
      "text/plain": [
       "2"
      ]
     },
     "execution_count": 16,
     "metadata": {},
     "output_type": "execute_result"
    }
   ],
   "source": [
    "# Get the sum of the difference of two arrays\n",
    "np.sum(arr2 - arr1)"
   ]
  },
  {
   "cell_type": "markdown",
   "id": "78e169df",
   "metadata": {},
   "source": [
    "# Creating and Applying Functions"
   ]
  },
  {
   "cell_type": "code",
   "execution_count": 17,
   "id": "4287120d",
   "metadata": {},
   "outputs": [],
   "source": [
    "# Simple Python function\n",
    "def simple_function(x):\n",
    "    return (x>1)"
   ]
  },
  {
   "cell_type": "code",
   "execution_count": 18,
   "id": "8dcad0b4",
   "metadata": {},
   "outputs": [
    {
     "data": {
      "text/plain": [
       "True"
      ]
     },
     "execution_count": 18,
     "metadata": {},
     "output_type": "execute_result"
    }
   ],
   "source": [
    "# Evaluate the above function\n",
    "## When the output/result is greater than 1\n",
    "simple_function(2)"
   ]
  },
  {
   "cell_type": "code",
   "execution_count": 19,
   "id": "a7180a9e",
   "metadata": {},
   "outputs": [
    {
     "data": {
      "text/plain": [
       "False"
      ]
     },
     "execution_count": 19,
     "metadata": {},
     "output_type": "execute_result"
    }
   ],
   "source": [
    "# Evaluate the function\n",
    "## When the output/result is less than 1\n",
    "simple_function(0)"
   ]
  },
  {
   "cell_type": "code",
   "execution_count": 20,
   "id": "35c91ca0",
   "metadata": {},
   "outputs": [],
   "source": [
    "# Build a linear function\n",
    "def linear_function(x):\n",
    "    return (3*x-4)"
   ]
  },
  {
   "cell_type": "code",
   "execution_count": 23,
   "id": "be7ce900",
   "metadata": {},
   "outputs": [
    {
     "data": {
      "text/plain": [
       "11"
      ]
     },
     "execution_count": 23,
     "metadata": {},
     "output_type": "execute_result"
    }
   ],
   "source": [
    "# Evaluate the linear function\n",
    "linear_function(5)"
   ]
  },
  {
   "cell_type": "code",
   "execution_count": 28,
   "id": "1f7f9ecd",
   "metadata": {},
   "outputs": [
    {
     "data": {
      "text/plain": [
       "array([1, 2, 3, 4, 5])"
      ]
     },
     "execution_count": 28,
     "metadata": {},
     "output_type": "execute_result"
    }
   ],
   "source": [
    "# Get a list (array) of x-values\n",
    "x_vals = np.arange(1, 5 + 1, 1)\n",
    "# Display the x-values\n",
    "## NOTE: if you do not tell Python to display the values, it will still calculate them, just not show you the result.\n",
    "x_vals"
   ]
  },
  {
   "cell_type": "code",
   "execution_count": 29,
   "id": "387dece4",
   "metadata": {},
   "outputs": [
    {
     "data": {
      "text/plain": [
       "array([-1,  2,  5,  8, 11])"
      ]
     },
     "execution_count": 29,
     "metadata": {},
     "output_type": "execute_result"
    }
   ],
   "source": [
    "# Apply the linear function to the x-values\n",
    "linear_function(x_vals)"
   ]
  },
  {
   "cell_type": "markdown",
   "id": "2afadfb6",
   "metadata": {},
   "source": [
    "# Plotting with Matplotlib"
   ]
  },
  {
   "cell_type": "code",
   "execution_count": 32,
   "id": "beb4e497",
   "metadata": {},
   "outputs": [
    {
     "data": {
      "image/png": "[encoded data removed]",
      "text/plain": [
       "<Figure size 640x480 with 1 Axes>"
      ]
     },
     "metadata": {},
     "output_type": "display_data"
    }
   ],
   "source": [
    "# Plot the linear function\n",
    "plt.plot(x_vals, linear_function(x_vals), color = 'red')  # Create the plot\n",
    "# Set the x and y mins/max values displayed on graph\n",
    "## NOTE: If you don't do this, Python will just choose min/max values for you\n",
    "plt.xlim([0,6])  # Set the x-window\n",
    "plt.ylim([-5,15])  # Set the y-window\n",
    "# Set the labels for the x and y axes\n",
    "## NOTE: If you don't do this, Python will leave these blank.\n",
    "plt.xlabel('x-values')  # Create the x-axis label\n",
    "plt.ylabel('y-vaues')  # Creat the y-axis label\n",
    "# Set the title of your graph\n",
    "# NOTE: Again, if you don't do this, Python will leave this blank.\n",
    "plt.title('Plot of y = 3x - 4')  # Create the plot title\n",
    "plt.show() # Display the graph on console"
   ]
  },
  {
   "cell_type": "code",
   "execution_count": 38,
   "id": "5dabebda",
   "metadata": {},
   "outputs": [],
   "source": [
    "# Create a quadratic function y = ax^2 + bx + c\n",
    "def quad_function(x, a = 1, b = 0, c = 0):\n",
    "    return(a*x**2 + b*x + c)"
   ]
  },
  {
   "cell_type": "code",
   "execution_count": 39,
   "id": "53423b6d",
   "metadata": {},
   "outputs": [
    {
     "data": {
      "text/plain": [
       "9"
      ]
     },
     "execution_count": 39,
     "metadata": {},
     "output_type": "execute_result"
    }
   ],
   "source": [
    "# Example where default (previously defined) values are used\n",
    "## quad_function(3) is equivalent to quad_function(3, 1, 0, 0)\n",
    "quad_function(3)"
   ]
  },
  {
   "cell_type": "code",
   "execution_count": 40,
   "id": "5da830f6",
   "metadata": {
    "scrolled": true
   },
   "outputs": [
    {
     "data": {
      "text/plain": [
       "13"
      ]
     },
     "execution_count": 40,
     "metadata": {},
     "output_type": "execute_result"
    }
   ],
   "source": [
    "# Example that is more complex because it has multiple inputs\n",
    "## (we are defining the coefficients of our quadratic function)\n",
    "quad_function(3,1,1,1)"
   ]
  },
  {
   "cell_type": "code",
   "execution_count": 41,
   "id": "e98e9ac2",
   "metadata": {},
   "outputs": [
    {
     "data": {
      "text/plain": [
       "array([ 2,  5, 10, 17, 26])"
      ]
     },
     "execution_count": 41,
     "metadata": {},
     "output_type": "execute_result"
    }
   ],
   "source": [
    "# Apply the quadratic fun tion to the x-values\n",
    "quad_function(x_vals, 1, 0, 1)"
   ]
  },
  {
   "cell_type": "code",
   "execution_count": 46,
   "id": "7b9ce726",
   "metadata": {},
   "outputs": [
    {
     "data": {
      "image/png": "[encoded data removed]",
      "text/plain": [
       "<Figure size 640x480 with 1 Axes>"
      ]
     },
     "metadata": {},
     "output_type": "display_data"
    }
   ],
   "source": [
    "# Plot the linear AND quadratic function\n",
    "plt.plot(x_vals, linear_function(x_vals), color = 'red', label = 'Linear Function')  # Plot the linear function\n",
    "plt.plot(x_vals, quad_function(x_vals, 1, 0, 1), color = 'blue', label = 'Quadratic Function')  # Plot the quadratic function\n",
    "plt.xlim([0,6]) # Set the x-window\n",
    "plt.ylim([-5,30]) # Set the y-window\n",
    "plt.xlabel('x-values')  # Create the x-axis label\n",
    "plt.ylabel('y-values') # Create the y-axis label\n",
    "plt.title('Linear and Quadratic Plots')  # Create the plot title\n",
    "# Create a legend on the graph that tells us which line belongs to which functoin\n",
    "## Python uses the 'color' and 'labels' defined above\n",
    "plt.legend() # Create the legend\n",
    "plt.show()  # Display the graph on console"
   ]
  },
  {
   "cell_type": "markdown",
   "id": "4653c4ea",
   "metadata": {},
   "source": [
    "### Comments on Matplotlib"
   ]
  },
  {
   "cell_type": "markdown",
   "id": "4cb138d2",
   "metadata": {},
   "source": [
    "* Matplotlib has a variety of additional features/settings for customzizing plots\n",
    "* You can find Matplotlib tutorials at the following link:\n",
    "https://www.google.com/search?client=firefox-b-1-d&q=matplotlib+tutorials"
   ]
  },
  {
   "cell_type": "markdown",
   "id": "9be9f364",
   "metadata": {},
   "source": [
    "# Importing Data with Pandas"
   ]
  },
  {
   "cell_type": "markdown",
   "id": "1b039cb5",
   "metadata": {},
   "source": [
    "We will be working witha dataset on cereal. It can be downloaded from Kaggle at the following link:\n",
    "https://www.kaggle.com/datasets/crawford/80-cereals "
   ]
  },
  {
   "cell_type": "code",
   "execution_count": 5,
   "id": "de504c6a",
   "metadata": {},
   "outputs": [
    {
     "data": {
      "text/html": [
       "<div>\n",
       "<style scoped>\n",
       "    .dataframe tbody tr th:only-of-type {\n",
       "        vertical-align: middle;\n",
       "    }\n",
       "\n",
       "    .dataframe tbody tr th {\n",
       "        vertical-align: top;\n",
       "    }\n",
       "\n",
       "    .dataframe thead th {\n",
       "        text-align: right;\n",
       "    }\n",
       "</style>\n",
       "<table border=\"1\" class=\"dataframe\">\n",
       "  <thead>\n",
       "    <tr style=\"text-align: right;\">\n",
       "      <th></th>\n",
       "      <th>name</th>\n",
       "      <th>mfr</th>\n",
       "      <th>type</th>\n",
       "      <th>calories</th>\n",
       "      <th>protein</th>\n",
       "      <th>fat</th>\n",
       "      <th>sodium</th>\n",
       "      <th>fiber</th>\n",
       "      <th>carbo</th>\n",
       "      <th>sugars</th>\n",
       "      <th>potass</th>\n",
       "      <th>vitamins</th>\n",
       "      <th>shelf</th>\n",
       "      <th>weight</th>\n",
       "      <th>cups</th>\n",
       "      <th>rating</th>\n",
       "    </tr>\n",
       "  </thead>\n",
       "  <tbody>\n",
       "    <tr>\n",
       "      <th>0</th>\n",
       "      <td>100% Bran</td>\n",
       "      <td>N</td>\n",
       "      <td>C</td>\n",
       "      <td>70</td>\n",
       "      <td>4</td>\n",
       "      <td>1</td>\n",
       "      <td>130</td>\n",
       "      <td>10.0</td>\n",
       "      <td>5.0</td>\n",
       "      <td>6</td>\n",
       "      <td>280</td>\n",
       "      <td>25</td>\n",
       "      <td>3</td>\n",
       "      <td>1.0</td>\n",
       "      <td>0.33</td>\n",
       "      <td>68.402973</td>\n",
       "    </tr>\n",
       "    <tr>\n",
       "      <th>1</th>\n",
       "      <td>100% Natural Bran</td>\n",
       "      <td>Q</td>\n",
       "      <td>C</td>\n",
       "      <td>120</td>\n",
       "      <td>3</td>\n",
       "      <td>5</td>\n",
       "      <td>15</td>\n",
       "      <td>2.0</td>\n",
       "      <td>8.0</td>\n",
       "      <td>8</td>\n",
       "      <td>135</td>\n",
       "      <td>0</td>\n",
       "      <td>3</td>\n",
       "      <td>1.0</td>\n",
       "      <td>1.00</td>\n",
       "      <td>33.983679</td>\n",
       "    </tr>\n",
       "    <tr>\n",
       "      <th>2</th>\n",
       "      <td>All-Bran</td>\n",
       "      <td>K</td>\n",
       "      <td>C</td>\n",
       "      <td>70</td>\n",
       "      <td>4</td>\n",
       "      <td>1</td>\n",
       "      <td>260</td>\n",
       "      <td>9.0</td>\n",
       "      <td>7.0</td>\n",
       "      <td>5</td>\n",
       "      <td>320</td>\n",
       "      <td>25</td>\n",
       "      <td>3</td>\n",
       "      <td>1.0</td>\n",
       "      <td>0.33</td>\n",
       "      <td>59.425505</td>\n",
       "    </tr>\n",
       "    <tr>\n",
       "      <th>3</th>\n",
       "      <td>All-Bran with Extra Fiber</td>\n",
       "      <td>K</td>\n",
       "      <td>C</td>\n",
       "      <td>50</td>\n",
       "      <td>4</td>\n",
       "      <td>0</td>\n",
       "      <td>140</td>\n",
       "      <td>14.0</td>\n",
       "      <td>8.0</td>\n",
       "      <td>0</td>\n",
       "      <td>330</td>\n",
       "      <td>25</td>\n",
       "      <td>3</td>\n",
       "      <td>1.0</td>\n",
       "      <td>0.50</td>\n",
       "      <td>93.704912</td>\n",
       "    </tr>\n",
       "    <tr>\n",
       "      <th>4</th>\n",
       "      <td>Almond Delight</td>\n",
       "      <td>R</td>\n",
       "      <td>C</td>\n",
       "      <td>110</td>\n",
       "      <td>2</td>\n",
       "      <td>2</td>\n",
       "      <td>200</td>\n",
       "      <td>1.0</td>\n",
       "      <td>14.0</td>\n",
       "      <td>8</td>\n",
       "      <td>-1</td>\n",
       "      <td>25</td>\n",
       "      <td>3</td>\n",
       "      <td>1.0</td>\n",
       "      <td>0.75</td>\n",
       "      <td>34.384843</td>\n",
       "    </tr>\n",
       "  </tbody>\n",
       "</table>\n",
       "</div>"
      ],
      "text/plain": [
       "                        name mfr type  calories  protein  fat  sodium  fiber  \\\n",
       "0                  100% Bran   N    C        70        4    1     130   10.0   \n",
       "1          100% Natural Bran   Q    C       120        3    5      15    2.0   \n",
       "2                   All-Bran   K    C        70        4    1     260    9.0   \n",
       "3  All-Bran with Extra Fiber   K    C        50        4    0     140   14.0   \n",
       "4             Almond Delight   R    C       110        2    2     200    1.0   \n",
       "\n",
       "   carbo  sugars  potass  vitamins  shelf  weight  cups     rating  \n",
       "0    5.0       6     280        25      3     1.0  0.33  68.402973  \n",
       "1    8.0       8     135         0      3     1.0  1.00  33.983679  \n",
       "2    7.0       5     320        25      3     1.0  0.33  59.425505  \n",
       "3    8.0       0     330        25      3     1.0  0.50  93.704912  \n",
       "4   14.0       8      -1        25      3     1.0  0.75  34.384843  "
      ]
     },
     "execution_count": 5,
     "metadata": {},
     "output_type": "execute_result"
    }
   ],
   "source": [
    "# Import the data\n",
    "df_cereal = pd.read_csv(\"cereal.csv\")\n",
    "# Display the first few rows of data\n",
    "df_cereal.head()"
   ]
  },
  {
   "cell_type": "code",
   "execution_count": null,
   "id": "f05b7f8c",
   "metadata": {},
   "outputs": [],
   "source": []
  },
  {
   "cell_type": "code",
   "execution_count": null,
   "id": "08cd87b8",
   "metadata": {},
   "outputs": [],
   "source": []
  },
  {
   "cell_type": "code",
   "execution_count": null,
   "id": "8436e867",
   "metadata": {},
   "outputs": [],
   "source": []
  },
  {
   "cell_type": "code",
   "execution_count": null,
   "id": "39815d7a",
   "metadata": {},
   "outputs": [],
   "source": []
  },
  {
   "cell_type": "code",
   "execution_count": null,
   "id": "ffb128fe",
   "metadata": {},
   "outputs": [],
   "source": []
  },
  {
   "cell_type": "code",
   "execution_count": null,
   "id": "ccbab0ad",
   "metadata": {},
   "outputs": [],
   "source": []
  }
 ],
 "metadata": {
  "kernelspec": {
   "display_name": "Python 3 (ipykernel)",
   "language": "python",
   "name": "python3"
  },
  "language_info": {
   "codemirror_mode": {
    "name": "ipython",
    "version": 3
   },
   "file_extension": ".py",
   "mimetype": "text/x-python",
   "name": "python",
   "nbconvert_exporter": "python",
   "pygments_lexer": "ipython3",
   "version": "3.11.4"
  }
 },
 "nbformat": 4,
 "nbformat_minor": 5
}
