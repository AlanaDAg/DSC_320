{
 "cells": [
  {
   "cell_type": "markdown",
   "id": "f745c6ac",
   "metadata": {},
   "source": [
    "# <center> DSC 320 - Week 11 - Exercise 11\n",
    "## Alana D'Agostino\n",
    "### Professor Werner"
   ]
  },
  {
   "cell_type": "markdown",
   "id": "15ace2fb",
   "metadata": {},
   "source": [
    "# <center> Using the Binomial Distribution"
   ]
  },
  {
   "cell_type": "markdown",
   "id": "4a8d8eb1",
   "metadata": {},
   "source": [
    "# 1."
   ]
  },
  {
   "cell_type": "markdown",
   "id": "9060a3b8",
   "metadata": {},
   "source": [
    "# a."
   ]
  },
  {
   "cell_type": "code",
   "execution_count": 206,
   "id": "d84c747d",
   "metadata": {},
   "outputs": [
    {
     "name": "stdout",
     "output_type": "stream",
     "text": [
      "The ensemble model accuracy is: 20.08%\n"
     ]
    }
   ],
   "source": [
    "# Import libraries and packages\n",
    "import numpy as np\n",
    "from scipy.stats import binom\n",
    "\n",
    "# Expected number of successful trials (k = 9)\n",
    "# Total number of trials (n = 15)\n",
    "# The probability of success (p = 0.63)\n",
    "k = 9\n",
    "n = 15\n",
    "p = 0.63\n",
    "\n",
    "## Calculate the ensemble accuracy\n",
    "ensemble_accuracy = (binom.pmf(k, n, p)) * 100\n",
    "\n",
    "print(f\"The ensemble model accuracy is: {ensemble_accuracy:.2f}%\")"
   ]
  },
  {
   "cell_type": "markdown",
   "id": "6609b11d",
   "metadata": {},
   "source": [
    "# b."
   ]
  },
  {
   "cell_type": "code",
   "execution_count": 207,
   "id": "09b3ab79",
   "metadata": {},
   "outputs": [
    {
     "name": "stdout",
     "output_type": "stream",
     "text": [
      "The individual models would need an accuracy of 80.00% in order for the ensemble model accuracy to be 95%. \n"
     ]
    }
   ],
   "source": [
    "# Use binom.ppf() to find the inverse of the cumulative distribution function\n",
    "\n",
    "# Include desired accuracy (q = 0.95)\n",
    "## q should now equal 0.95\n",
    "### Divide entire ppf function by the number of trials to account for entire ensemble model\n",
    "q = 0.95\n",
    "n = 15\n",
    "p = 0.63\n",
    "\n",
    "\n",
    "b_accuracy = (binom.ppf(q, n, p) / n) * 100\n",
    "\n",
    "print(f\"The individual models would need an accuracy of {b_accuracy:.2f}% \"\n",
    "     + \"in order for the ensemble model accuracy to be 95%. \")"
   ]
  },
  {
   "cell_type": "markdown",
   "id": "a742e2c8",
   "metadata": {},
   "source": [
    "# c."
   ]
  },
  {
   "cell_type": "code",
   "execution_count": 208,
   "id": "180979c7",
   "metadata": {},
   "outputs": [
    {
     "name": "stdout",
     "output_type": "stream",
     "text": [
      "The minimum odd number of individual models needed for the ensemble model to have a 95% accuracy is: \n",
      "14.0\n"
     ]
    }
   ],
   "source": [
    "# Adjust q value to the probability of failure\n",
    "## It should be equal to (1 - p) (in this case, 0.05)\n",
    "### n and p values remain\n",
    "q = 1 - p\n",
    "n = 15\n",
    "p = 0.95\n",
    "\n",
    "# Still using binom.ppf() (inverse of cumulative distribution function)\n",
    "number_of_models = binom.ppf(q, n, p)\n",
    "print(\"The minimum odd number of individual models needed for the \"\n",
    "      + f\"ensemble model to have a 95% accuracy is: \\n{number_of_models}\")"
   ]
  },
  {
   "cell_type": "markdown",
   "id": "c57b7e1f",
   "metadata": {},
   "source": [
    "# <center> Working with Random Data"
   ]
  },
  {
   "cell_type": "markdown",
   "id": "1cafbf31",
   "metadata": {},
   "source": [
    "# a."
   ]
  },
  {
   "cell_type": "code",
   "execution_count": 209,
   "id": "d4b4b6e2",
   "metadata": {},
   "outputs": [
    {
     "name": "stdout",
     "output_type": "stream",
     "text": [
      "The sum of the probabilities of the x values is: \n",
      "1.0\n"
     ]
    }
   ],
   "source": [
    "# Assign random probabilities to X values\n",
    "PMF = {X1: 0.2, X2: 0.1, X3: 0.3, X4: 0.3, X5: 0.1}\n",
    "\n",
    "# The sum of all probabilities should equal 1\n",
    "x_prob_sum = X1 + X2 + X3 + X4 + X5\n",
    "print(f\"The sum of the probabilities of the x values is: \\n{x_prob_sum}\")"
   ]
  },
  {
   "cell_type": "markdown",
   "id": "bf92525f",
   "metadata": {},
   "source": [
    "# b."
   ]
  },
  {
   "cell_type": "code",
   "execution_count": 210,
   "id": "ea1412a6",
   "metadata": {},
   "outputs": [
    {
     "name": "stdout",
     "output_type": "stream",
     "text": [
      "\n",
      "The mean of the 50 randomly generated X-values is: \n",
      "3.02\n"
     ]
    }
   ],
   "source": [
    "# Import libraries and packages\n",
    "import numpy as np\n",
    "\n",
    "# Custom PMF\n",
    "PMF = {1: 0.2, 2: 0.1, 3: 0.3, 4: 0.3, 5: 0.1}\n",
    "\n",
    "# Define a function that generates 50 random X-values\n",
    "## Use the PMF function written above\n",
    "# np.random.choice() is a pre-built function that returns random samples as an array\n",
    "def rando_x_vals(PMF, size = 50):\n",
    "    vals = np.random.choice(list(PMF.keys()), size = size, p = list(PMF.values()))\n",
    "    return np.mean(vals)\n",
    "\n",
    "# Find the mean of the random X-values by calling function\n",
    "print(f\"\\nThe mean of the 50 randomly generated X-values is: \\n{rando_x_vals(PMF)}\")"
   ]
  },
  {
   "cell_type": "markdown",
   "id": "6eb83c5c",
   "metadata": {},
   "source": [
    "# c."
   ]
  },
  {
   "cell_type": "code",
   "execution_count": 211,
   "id": "5b332059",
   "metadata": {},
   "outputs": [
    {
     "name": "stdout",
     "output_type": "stream",
     "text": [
      "[2.64, 3.02, 2.92, 3.32, 2.88, 3.04, 2.74, 3.0, 2.7, 3.3, 3.3, 2.84, 3.24, 2.96, 3.08, 2.98, 3.24, 3.0, 2.88, 3.38, 2.86, 2.96, 2.86, 3.06, 3.22, 2.98, 3.14, 2.84, 2.94, 2.8, 3.28, 2.96, 2.84, 2.9, 3.02, 3.04, 2.98, 3.24, 2.92, 2.96, 2.82, 3.16, 3.32, 2.82, 3.1, 3.24, 3.08, 3.0, 3.22, 2.96, 2.82, 2.8, 2.92, 2.96, 3.08, 2.96, 2.98, 2.96, 3.12, 3.0, 3.02, 3.04, 3.22, 3.14, 3.34, 3.06, 3.04, 2.92, 3.08, 2.9, 2.9, 2.8, 3.04, 3.34, 2.98, 3.16, 3.12, 2.84, 2.78, 2.72, 2.98, 3.3, 3.08, 3.3, 3.06, 2.74, 2.92, 2.8, 3.28, 3.06, 3.1, 3.08, 3.0, 3.22, 3.08, 3.04, 2.8, 2.96, 3.06, 2.92, 2.82, 3.04, 2.84, 2.9, 2.74, 3.14, 3.26, 2.96, 3.1, 2.78, 2.84, 2.86, 3.14, 2.92, 3.04, 2.58, 2.88, 2.96, 2.96, 2.9, 3.02, 3.18, 3.02, 3.04, 3.04, 2.84, 2.84, 2.92, 2.74, 2.8, 3.4, 3.02, 3.36, 3.36, 2.86, 3.18, 2.94, 3.14, 2.68, 2.82, 2.98, 3.12, 2.84, 3.24, 2.66, 2.7, 2.96, 2.48, 3.02, 2.92, 2.84, 3.0, 2.78, 3.22, 3.0, 2.84, 2.84, 2.7, 3.06, 2.78, 2.78, 3.2, 3.06, 2.82, 3.14, 3.12, 3.04, 2.84, 2.82, 3.04, 3.14, 3.18, 2.92, 3.38, 3.38, 3.26, 2.96, 3.2, 3.0, 2.82, 3.02, 2.76, 2.98, 2.92, 2.92, 3.14, 2.92, 3.02, 2.88, 2.6, 2.76, 3.16, 3.08, 3.06, 3.06, 2.82, 3.02, 3.04, 3.18, 3.14, 2.88, 3.22, 3.02, 2.94, 3.08, 3.1, 3.38, 2.9, 2.62, 2.94, 3.12, 2.68, 2.88, 3.2, 2.78, 3.0, 2.72, 3.08, 2.94, 3.28, 3.2, 2.82, 3.02, 3.16, 3.04, 2.96, 3.0, 3.04, 3.06, 3.2, 3.28, 2.98, 3.08, 2.8, 2.98, 2.92, 2.76, 3.3, 2.74, 2.78, 3.02, 2.88, 2.86, 2.94, 3.04, 2.9, 2.76, 3.08, 2.84, 2.88, 3.04, 3.02, 2.98, 2.86, 3.18, 3.1, 3.02, 3.12, 3.2, 2.98, 3.26, 3.04, 3.22, 2.92, 2.94, 2.84, 3.0, 2.98, 3.08, 3.04, 3.16, 3.06, 3.04, 2.64, 2.94, 2.72, 3.2, 3.14, 2.8, 3.22, 3.14, 2.64, 3.28, 3.16, 3.28, 2.98, 3.2, 3.12, 3.06, 3.04, 2.7, 3.08, 2.78, 2.88, 3.18, 3.16, 3.06, 3.42, 3.18, 3.02, 2.9, 3.08, 2.94, 3.06, 3.26, 2.96, 3.0, 2.84, 2.8, 3.38, 3.2, 3.08, 2.92, 3.16, 2.94, 3.3, 3.1, 2.9, 2.72, 3.28, 3.08, 3.08, 3.04, 2.88, 3.02, 3.16, 2.82, 3.1, 3.24, 3.12, 2.98, 3.26, 3.36, 2.76, 2.88, 3.18, 2.84, 2.94, 3.28, 2.94, 3.02, 3.02, 3.12, 3.08, 3.04, 3.04, 3.02, 2.94, 2.82, 2.98, 3.14, 2.98, 2.96, 2.72, 2.98, 3.0, 2.82, 2.9, 3.24, 3.12, 3.1, 2.82, 3.06, 3.18, 3.22, 3.12, 2.96, 2.86, 3.2, 2.9, 3.02, 3.06, 3.0, 2.94, 3.02, 2.88, 3.02, 2.82, 3.32, 3.0, 3.36, 3.14, 2.88, 2.76, 2.96, 3.28, 3.08, 3.08, 3.34, 2.98, 2.54, 3.1, 2.9, 2.88, 2.98, 3.16, 3.0, 2.88, 3.02, 3.08, 3.02, 2.88, 2.94, 3.04, 2.9, 2.8, 2.88, 2.98, 3.12, 3.02, 3.36, 2.98, 3.08, 2.74, 2.96, 3.14, 3.12, 2.98, 3.14, 3.28, 2.9, 2.96, 3.08, 2.86, 3.16, 3.22, 2.96, 2.78, 2.8, 3.06, 2.84, 2.94, 2.88, 3.2, 3.18, 2.96, 3.26, 3.1, 2.92, 2.86, 3.18, 2.86, 3.18, 2.54, 3.16, 2.96, 2.76, 3.02, 2.92, 2.98, 2.56, 3.02, 3.24, 2.86, 3.1, 2.9, 2.94, 2.92, 3.24, 3.16, 2.98, 2.84, 3.08, 3.16, 2.94, 3.22, 3.28, 2.74, 3.26, 3.02, 3.08, 3.26, 3.28, 2.82, 2.82, 3.06, 3.14, 2.98, 3.28, 3.1, 2.88, 2.9, 3.18, 2.94, 2.94, 3.1, 2.96, 3.06, 2.88, 3.1, 3.14, 2.9, 3.04, 2.66, 2.86, 2.98, 3.16, 3.1, 2.88, 3.0, 2.88, 2.88, 3.1, 3.04, 2.9, 2.88, 3.2, 2.7, 2.62, 3.24, 2.9, 3.14, 3.06, 2.96, 2.98, 3.34, 2.98, 3.32, 3.14, 3.28, 3.2, 3.16, 2.98, 2.88, 3.02, 3.12, 3.02, 3.08, 3.26, 3.0, 3.36, 2.84, 2.96, 3.08, 3.1, 3.02, 3.02, 2.76, 2.78, 3.24, 2.96, 3.16, 3.26, 2.54, 2.82, 3.42, 2.86, 2.64, 3.08, 2.8, 2.86, 3.1, 3.26, 2.82, 2.96, 2.92, 3.04, 3.1, 2.74, 3.04, 3.02, 3.32, 3.04, 3.06, 3.12, 3.02, 2.82, 3.26, 3.14, 3.12, 3.0, 3.2, 3.0, 3.1, 3.02, 3.32, 3.32, 2.98, 3.1, 3.02, 2.86, 2.52, 2.9, 2.96, 2.86, 2.62, 2.86, 2.96, 2.98, 3.12, 3.2, 3.02, 3.12, 3.28, 2.96, 2.92, 2.98, 3.2, 3.02, 3.22, 3.12, 2.62, 2.82, 2.86, 2.68, 3.12, 3.28, 3.2, 2.78, 3.02, 2.94, 3.12, 3.16, 3.14, 3.12, 3.08, 2.9, 2.68, 2.88, 2.7, 2.78, 3.12, 2.86, 2.98, 3.1, 2.72, 3.06, 3.12, 3.32, 2.92, 2.82, 3.04, 2.78, 2.76, 2.8, 3.24, 3.2, 2.88, 3.04, 3.22, 2.8, 3.06, 2.84, 3.04, 3.08, 2.84, 2.68, 2.72, 3.1, 3.42, 3.18, 2.8, 2.88, 3.02, 2.98, 2.88, 3.18, 2.8, 3.2, 2.94, 2.92, 3.26, 2.9, 3.1, 3.1, 3.08, 3.18, 2.64, 2.96, 2.9, 3.02, 3.02, 3.02, 2.92, 2.84, 2.82, 2.9, 3.0, 3.22, 2.92, 3.18, 2.78, 3.02, 3.24, 3.1, 2.68, 2.68, 3.3, 3.2, 3.32, 3.0, 3.08, 2.96, 2.96, 3.18, 3.0, 3.34, 2.96, 2.94, 2.98, 3.1, 2.8, 3.06, 2.84, 2.9, 3.1, 3.08, 3.1, 3.14, 2.92, 3.24, 3.06, 2.64, 3.06, 2.88, 2.66, 2.98, 3.18, 2.98, 2.84, 2.86, 2.9, 3.08, 2.82, 2.98, 2.9, 3.08, 3.0, 2.58, 3.3, 3.04, 2.9, 3.28, 3.18, 2.78, 2.82, 3.2, 3.26, 2.92, 3.14, 3.3, 2.98, 2.94, 2.88, 3.12, 3.28, 3.12, 3.06, 2.76, 3.0, 3.3, 3.34, 2.88, 3.22, 3.12, 3.12, 3.18, 3.4, 2.96, 3.06, 3.1, 2.62, 3.12, 3.18, 3.0, 3.2, 3.08, 3.0, 2.84, 3.2, 2.98, 3.14, 2.92, 3.08, 3.28, 2.66, 2.86, 3.1, 3.08, 3.08, 3.1, 3.14, 2.94, 2.72, 2.98, 2.86, 3.0, 3.02, 3.16, 3.14, 2.88, 3.02, 2.9, 3.32, 3.14, 3.1, 2.74, 3.04, 3.12, 2.96, 2.54, 3.3, 2.74, 3.04, 2.94, 2.72, 3.06, 2.82, 3.14, 2.96, 2.8, 2.52, 3.44, 3.18, 3.3, 2.7, 2.94, 3.0, 3.02, 2.88, 3.0, 2.96, 2.76, 3.26, 2.82, 3.14, 3.18, 2.76, 3.24, 3.12, 2.72, 2.82, 2.8, 2.72, 3.02, 2.82, 3.16, 3.32, 3.08, 3.04, 2.62, 2.64, 3.12, 2.9, 3.16, 2.68, 3.02, 3.2, 2.96, 2.96, 2.94, 3.1, 3.08, 3.18, 3.28, 3.04, 2.8, 3.02, 2.96, 2.94, 3.18, 2.94, 3.02, 3.12, 2.94, 2.82, 2.98, 2.96, 3.06, 3.06, 3.2, 2.94, 3.0, 2.94, 3.08, 2.92, 3.02, 2.78, 3.08, 3.08, 2.94, 2.78, 3.06, 3.0, 2.98, 2.96, 3.0, 2.92, 3.22, 3.12, 3.26, 3.16, 3.22, 3.16, 2.86, 3.24, 3.0, 2.94, 3.06, 2.86, 2.74, 3.1, 2.92, 3.4, 3.24, 2.86, 3.1, 2.76, 2.76, 2.9, 3.08, 2.52, 2.74, 3.02, 3.1, 3.2, 3.08, 2.66, 2.98, 2.56, 3.0, 2.92, 2.96, 3.02, 2.98, 3.02, 2.66, 3.12, 3.14, 3.14, 2.78, 3.18, 2.9, 3.04, 2.92, 3.12, 3.14, 3.0, 2.98, 2.98, 2.98, 2.86, 3.06, 3.06, 3.38, 2.9, 3.16, 3.04, 3.06, 3.1, 2.9, 2.86, 2.94, 2.82, 3.1, 3.08, 2.92, 2.98, 3.04, 3.18, 2.76, 3.02, 3.04, 2.86, 3.06, 2.94, 3.14, 3.18, 2.9, 2.98, 3.02, 2.8, 3.04, 2.76, 3.22, 3.08, 2.9, 3.2, 3.18, 2.96, 2.66, 3.06, 2.78, 2.92, 2.6, 3.16, 3.1, 3.06, 2.82, 3.16, 3.02, 3.06, 3.32, 2.76, 3.2, 3.14, 2.8, 2.56, 3.08, 3.0]\n"
     ]
    }
   ],
   "source": [
    "# Define the number of trials as an object\n",
    "trials = 1000\n",
    "\n",
    "# Define the list of means as an object\n",
    "## Use for_in range method\n",
    "c_means_list = [rando_x_vals(PMF) for _ in range(trials)]\n",
    "print(c_means_list)"
   ]
  },
  {
   "cell_type": "markdown",
   "id": "6c3607a6",
   "metadata": {},
   "source": [
    "# d."
   ]
  },
  {
   "cell_type": "code",
   "execution_count": 212,
   "id": "114572ea",
   "metadata": {},
   "outputs": [
    {
     "data": {
      "image/png": "[encoded data removed]",
      "text/plain": [
       "<Figure size 640x480 with 1 Axes>"
      ]
     },
     "metadata": {},
     "output_type": "display_data"
    }
   ],
   "source": [
    "# Import libraries\n",
    "import matplotlib.pyplot as plt\n",
    "\n",
    "# Create a histogram of the means found in part c.\n",
    "# Define aesthetics (title, axes labels, colors)\n",
    "plt.hist(c_means_list, edgecolor= \"black\", color=\"darkgreen\")\n",
    "plt.title(\"Histogram of Means found in Part c.\")\n",
    "plt.xlabel('Means of Randomly Generated X-values')\n",
    "plt.ylabel(\"Frequency of Occurence\")\n",
    "plt.show()"
   ]
  },
  {
   "cell_type": "markdown",
   "id": "4971127a",
   "metadata": {},
   "source": [
    "> The histogram of the means of the randomly generated X-values is normally distributed. The normal distribution of this histogram is caused by the Central Limit Theorem. The large amount of trails (1,000) is too many, and has normalized what could actually be a skewed distribution of the population."
   ]
  },
  {
   "cell_type": "markdown",
   "id": "d1c7d7bc",
   "metadata": {},
   "source": [
    "# e."
   ]
  },
  {
   "cell_type": "code",
   "execution_count": 213,
   "id": "28e0f074",
   "metadata": {},
   "outputs": [
    {
     "name": "stdout",
     "output_type": "stream",
     "text": [
      "The mean of the values found in part c. is: 3.005\n",
      "The standard deviation of the values found in part c. is: 0.174\n"
     ]
    }
   ],
   "source": [
    "# Find the mean and stdev of the list generated in part c.\n",
    "print(f\"The mean of the values found in part c. is: {np.mean(c_means_list):.3f}\")\n",
    "print(f\"The standard deviation of the values found in part c. is: {np.std(c_means_list):.3f}\")"
   ]
  },
  {
   "cell_type": "code",
   "execution_count": 214,
   "id": "200e269b",
   "metadata": {},
   "outputs": [
    {
     "name": "stdout",
     "output_type": "stream",
     "text": [
      "The theoretical mean of the values found in part c. is: 3.0\n",
      "The theoretical standard deviation of the values found in part c. lis: 1.414214\n"
     ]
    }
   ],
   "source": [
    "# Find the theoretical mean and stdev values for the list generated in part c.\n",
    "print(f\"The theoretical mean of the values found in part c. is: {np.mean(list(PMF.keys()))}\")\n",
    "print(f\"The theoretical standard deviation of the values found in part c. lis: {np.std(list(PMF.keys())):.6f}\")"
   ]
  }
 ],
 "metadata": {
  "kernelspec": {
   "display_name": "Python 3 (ipykernel)",
   "language": "python",
   "name": "python3"
  },
  "language_info": {
   "codemirror_mode": {
    "name": "ipython",
    "version": 3
   },
   "file_extension": ".py",
   "mimetype": "text/x-python",
   "name": "python",
   "nbconvert_exporter": "python",
   "pygments_lexer": "ipython3",
   "version": "3.11.4"
  }
 },
 "nbformat": 4,
 "nbformat_minor": 5
}
