{
 "cells": [
  {
   "cell_type": "markdown",
   "id": "b803cc4b",
   "metadata": {},
   "source": [
    "# <center> DSC 320 - Week 12 - Exercise 12\n",
    "## Alana D'Agostino\n",
    "### Professor Werner"
   ]
  },
  {
   "cell_type": "markdown",
   "id": "fb6bf954",
   "metadata": {},
   "source": [
    "# <center> 1. Calculating Probabilities using Bayes' Theorem"
   ]
  },
  {
   "cell_type": "markdown",
   "id": "dc52daba",
   "metadata": {},
   "source": [
    "# a."
   ]
  },
  {
   "cell_type": "code",
   "execution_count": 42,
   "id": "a13f66e0",
   "metadata": {},
   "outputs": [
    {
     "name": "stdout",
     "output_type": "stream",
     "text": [
      "51.72% is the probability that a randomly chosen defective graphics card was manufactured using Proccess A.\n"
     ]
    }
   ],
   "source": [
    "# Define custom function for Bayes' Theorem\n",
    "## What is the probability that a graphics card was made by Process A \n",
    "### GIVEN that it is defective?\n",
    "def BayesTheorem_a(PA, PB, PC, P_def_A, P_def_B, P_def_C):\n",
    "    return ((PA * P_def_A) / ((PA * P_def_A) + (PB * P_def_B) + (PC * P_def_C))) * 100\n",
    "\n",
    "# Assign each probability to its own object\n",
    "## Tier 1 - Processes\n",
    "PA = 0.5\n",
    "PB = 0.3\n",
    "PC = 0.2\n",
    "\n",
    "## Tier 2 - Not Defective\n",
    "P_def_A = 0.03\n",
    "P_def_B = 0.02\n",
    "P_def_C = 0.04\n",
    "\n",
    "# Assign function to an object\n",
    "PA_GIVEN_def = BayesTheorem_a(PA, PB, PC, P_def_A, P_def_B, P_def_C)\n",
    "\n",
    "# Call function\n",
    "print(f\"{PA_GIVEN_def:.2f}% is the probability that a randomly chosen defective\"\n",
    "      + \" graphics card was manufactured using Proccess A.\")"
   ]
  },
  {
   "cell_type": "markdown",
   "id": "72daa172",
   "metadata": {},
   "source": [
    "# b."
   ]
  },
  {
   "cell_type": "code",
   "execution_count": 43,
   "id": "0803186c",
   "metadata": {},
   "outputs": [
    {
     "name": "stdout",
     "output_type": "stream",
     "text": [
      "19.77% is the probability that a randomly chosen graphics card that is not defective was manufactured by Process C.\n"
     ]
    }
   ],
   "source": [
    "# Define custom function for Bayes' Theorem; Adapt version from Part (a)\n",
    "## What is the probability that a graphics card was made by Process C\n",
    "### GIVEN that it is not defective?\n",
    "def BayesTheorem_b(PA, PB, PC, P_Notdef_A, P_Notdef_B, P_Notdef_C):\n",
    "    return ((PC * P_Notdef_C) / ((PA * P_Notdef_A) + (PB * P_Notdef_B) + (PC * P_Notdef_C))) * 100\n",
    "\n",
    "# Assign probabilities to objects\n",
    "## Tier 2 - Defective\n",
    "P_Notdef_A = 0.97\n",
    "P_Notdef_B = 0.98\n",
    "P_Notdef_C = 0.96\n",
    "\n",
    "# Assign function to an object\n",
    "PC_GIVEN_Notdef = BayesTheorem_b(PA, PB, PC, P_Notdef_A, P_Notdef_B, P_Notdef_C)\n",
    "\n",
    "# Call function\n",
    "print(f\"{PC_GIVEN_Notdef:.2f}% is the probability that a randomly chosen\"\n",
    "      + \" graphics card that is not defective was manufactured by Process C.\")"
   ]
  },
  {
   "cell_type": "markdown",
   "id": "60111546",
   "metadata": {},
   "source": [
    "# <center> 2. Entropy Function for a Probability Distribution"
   ]
  },
  {
   "cell_type": "code",
   "execution_count": 44,
   "id": "812f2c41",
   "metadata": {},
   "outputs": [
    {
     "name": "stdout",
     "output_type": "stream",
     "text": [
      "The entropy of the probability distribuion where n = 7 is: \n",
      "2.722\n"
     ]
    }
   ],
   "source": [
    "# Import libraries\n",
    "## Use math library for 'sum' function and math.log() method\n",
    "import math\n",
    "\n",
    "# Create a list of probabilities where n = 7\n",
    "P_X = [0.2, 0.1, 0.1, 0.2, 0.2, 0.1, 0.1]\n",
    "\n",
    "# Define a function for entopy formula (from pg. 143 of textbook)\n",
    "def entropy(P_X):\n",
    "    # Tell Python to ignore 0\n",
    "    entropy = -sum(p * math.log2(p) for p in P_X if p > 0)\n",
    "    \n",
    "    return entropy\n",
    "\n",
    "# Call function\n",
    "entropy = entropy(P_X)\n",
    "\n",
    "# Call function\n",
    "print(\"The entropy of the probability distribuion where n = 7 is:\"\n",
    "      + f\" \\n{entropy:.3f}\")"
   ]
  },
  {
   "cell_type": "code",
   "execution_count": 51,
   "id": "64ee3f0f",
   "metadata": {},
   "outputs": [
    {
     "name": "stdout",
     "output_type": "stream",
     "text": [
      "The entropy of the probability distribution where n = 7 is:  \n",
      "2.722\n"
     ]
    }
   ],
   "source": [
    "# CHECK: Use scipy.stats.entropy() function to check for accuracy\n",
    "\n",
    "# Import libraries\n",
    "import numpy as np\n",
    "from scipy.stats import entropy\n",
    "\n",
    "# Define array with probabilities\n",
    "# Set log to base 2\n",
    "pk = np.array([0.2, 0.1, 0.1, 0.2, 0.2, 0.1, 0.1])\n",
    "H = entropy(pk, base=2)\n",
    "\n",
    "print(f\"The entropy of the probability distribution where n = 7 is: \"\n",
    "      + f\" \\n{H:.3f}\")"
   ]
  },
  {
   "cell_type": "markdown",
   "id": "c9108bf0",
   "metadata": {},
   "source": [
    "# <center> 3. Calculating Entropies of Probability Distributions"
   ]
  },
  {
   "cell_type": "markdown",
   "id": "55f81b2b",
   "metadata": {},
   "source": [
    "# a."
   ]
  },
  {
   "cell_type": "code",
   "execution_count": 46,
   "id": "3062a789",
   "metadata": {},
   "outputs": [
    {
     "name": "stdout",
     "output_type": "stream",
     "text": [
      "The entropy of probability distribution X is: 2.322\n",
      "The entropy of probability distribution Y is: 2.046\n"
     ]
    }
   ],
   "source": [
    "# Use custom entropy function defined in Part 2\n",
    "def entropy(P_X):\n",
    "    # Tell Python to ignore 0\n",
    "    entropy = -sum(p * math.log2(p) for p in P_X if p > 0)\n",
    "    \n",
    "    return entropy\n",
    "\n",
    "# Create lists for X  and Y probabilities\n",
    "PX = [0.2, 0.2, 0.2, 0.2, 0.2]\n",
    "Entropy_X = entropy(PX)\n",
    "PY = [0.1, 0.4, 0.1, 0.3, 0.1]\n",
    "Entropy_Y = entropy(PY)\n",
    "\n",
    "# Call functions\n",
    "print(f\"The entropy of probability distribution X is: {Entropy_X:.3f}\"\n",
    "      + f\"\\nThe entropy of probability distribution Y is: {Entropy_Y:.3f}\")"
   ]
  },
  {
   "cell_type": "code",
   "execution_count": 55,
   "id": "c016146d",
   "metadata": {},
   "outputs": [
    {
     "name": "stdout",
     "output_type": "stream",
     "text": [
      "The entropy of probability distribution X is: 2.322\n",
      "The entropy of probability distribution Y is: 2.046\n"
     ]
    }
   ],
   "source": [
    "#CHECK: Use scipy.stats.entropy() function to check for accuracy\n",
    "\n",
    "# Define given probabilities as arrays\n",
    "# Set log to base 2\n",
    "pX = np.array([0.2, 0.2, 0.2, 0.2, 0.2])\n",
    "pY = np.array([0.1, 0.4, 0.1, 0.3, 0.1])\n",
    "Entropy_X = entropy(pX, base=2)\n",
    "Entropy_Y = entropy(pY, base=2)\n",
    "\n",
    "# Call functions\n",
    "print(f\"The entropy of probability distribution X is: {Entropy_X:.3f}\"\n",
    "      + f\"\\nThe entropy of probability distribution Y is: {Entropy_Y:.3f}\")"
   ]
  },
  {
   "cell_type": "markdown",
   "id": "368405e5",
   "metadata": {},
   "source": [
    "# b."
   ]
  },
  {
   "cell_type": "markdown",
   "id": "786358eb",
   "metadata": {},
   "source": [
    "> The entropy of probability distribution x is slightly larger than distribution y, which means that it has a higher degree of uncertainty. This is the case because distribution x has a uniform distribution and and the degree of uncertainty increases with the number of equiprobable outcomes."
   ]
  }
 ],
 "metadata": {
  "kernelspec": {
   "display_name": "Python 3 (ipykernel)",
   "language": "python",
   "name": "python3"
  },
  "language_info": {
   "codemirror_mode": {
    "name": "ipython",
    "version": 3
   },
   "file_extension": ".py",
   "mimetype": "text/x-python",
   "name": "python",
   "nbconvert_exporter": "python",
   "pygments_lexer": "ipython3",
   "version": "3.11.4"
  }
 },
 "nbformat": 4,
 "nbformat_minor": 5
}
