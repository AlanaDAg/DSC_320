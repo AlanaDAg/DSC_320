{
 "cells": [
  {
   "cell_type": "markdown",
   "id": "c2d7c710",
   "metadata": {},
   "source": [
    "# DSC 320 - Week 1 - Exercise 1\n",
    "## Alana D'Agostino\n",
    "### Professor Werner\n"
   ]
  },
  {
   "cell_type": "markdown",
   "id": "84d60fee",
   "metadata": {},
   "source": [
    "\n",
    "# 1. a)"
   ]
  },
  {
   "cell_type": "markdown",
   "id": "23dc8e6d",
   "metadata": {},
   "source": [
    "#### Root Mean Square Error (RMSE):\n",
    "#### Is a type of 'loss function,' which helps us understand the difference (subtraction) between the PREDICTED value and the ACTUAL value."
   ]
  },
  {
   "cell_type": "code",
   "execution_count": null,
   "id": "215fcd7d",
   "metadata": {},
   "outputs": [],
   "source": [
    "# The following will be a base program that we will build on in part b.\n",
    "\n",
    "# Import NumPy library to calculate RMSE\n",
    "## NumPy is used here because the actual and predicted values are arrays.\n",
    "import numpy as np\n",
    "\n",
    "# Define for Python the formula to find RMSE as a function\n",
    "def calculate_RMSE(y_actual_values, y_predicted_values):\n",
    "    # Check if arrays are the same length (otherwise calculation will fail)\n",
    "    if len(y_actual_values) != len(y_predicted_values):\n",
    "        # Include custom ValueError to catch error from arrays of different lengths\n",
    "        raise ValueError(\"Input arrays are not the same length.\")\n",
    "    \n",
    "    # Create RMSE object as the actual formula for RMSE\n",
    "    RMSE = np.sqrt(np.mean((y_predicted_values - y_actual_values)**2))\n",
    "    \n",
    "    # Use 'return' so Python will know to calculate (aka executing a process)\n",
    "    return RMSE\n",
    "\n",
    "# Define the result of the calculation as an object\n",
    "## Display the result on console\n",
    "RMSE_result = calculate_RMSE(y_actual_values, y_predicted_values)\n",
    "print(f\"RMSE: {RMSE_result}\")"
   ]
  },
  {
   "cell_type": "markdown",
   "id": "8bdc57ef",
   "metadata": {},
   "source": [
    "# 1. b)"
   ]
  },
  {
   "cell_type": "code",
   "execution_count": 14,
   "id": "b3fdae53",
   "metadata": {},
   "outputs": [
    {
     "name": "stdout",
     "output_type": "stream",
     "text": [
      "The Root Mean Square Error (RMSE) between the 'sale_price_pred' and 'sale_price' is 55064.0688338987\n"
     ]
    }
   ],
   "source": [
    "# Import NumPy since we're working with arrays\n",
    "# Import Pandas to work with a dataset\n",
    "import numpy as np\n",
    "import pandas as pd\n",
    "\n",
    "# Define filepath (which is stored in the same directory as this Notebook) by giving Python the file name.\n",
    "dataset = pd.read_csv(\"housing_data.csv\")\n",
    "\n",
    "# Define actual and predicted prices as objects extracted from columns in the dataset\n",
    "actual_prices = dataset[\"sale_price\"]\n",
    "predicted_prices = dataset[\"sale_price_pred\"]\n",
    "\n",
    "# Define for Python the formula to find RMSE as a function\n",
    "def calculate_RMSE(actual_prices, predicted_prices):\n",
    "    # Check if arrays are the same length (otherwise calculation will fail)\n",
    "    if len(actual_prices) != len(predicted_prices):\n",
    "        # Include custom ValueError to catch error if arrays are different lengths\n",
    "        raise ValueError(\"Input arrays are not the same length.\")\n",
    "    \n",
    "    # Create RMSE object as the actual formula for RMSE\n",
    "    RMSE = np.sqrt(np.mean((predicted_prices - actual_prices)**2))\n",
    "    \n",
    "    # Use 'return' so Python will know to calculate (aka executing a process)\n",
    "    return RMSE\n",
    "\n",
    "# Define the result of the calculation as an object\n",
    "## Display the labeled result on console\n",
    "RMSE_result = calculate_RMSE(actual_prices, predicted_prices)\n",
    "print(f\"The Root Mean Square Error (RMSE) between the 'sale_price_pred' and 'sale_price' is: {RMSE_result}\")"
   ]
  },
  {
   "cell_type": "markdown",
   "id": "7b8aa29e",
   "metadata": {},
   "source": [
    "# 2. a)"
   ]
  },
  {
   "cell_type": "code",
   "execution_count": null,
   "id": "a1ab3e75",
   "metadata": {},
   "outputs": [],
   "source": [
    "# Again, the following will be a base program that we will build on in part b.\n",
    "\n",
    "# Import NumPy library to calculate MAE\n",
    "## NumPy is used here because the actual and predicted values are arrays.\n",
    "import numpy as np\n",
    "\n",
    "# Define for Python the formula to find RMSE as a function\n",
    "def calculate_MAE(y_actual_values, y_predicted_values):\n",
    "    # Check if arrays are the same length (otherwise calculation will fail)\n",
    "    if len(y_actual_values) != len(y_predicted_values):\n",
    "        # Include custom ValueError to catch error from arrays of different lengths\n",
    "        raise ValueError(\"Input arrays are not the same length.\")\n",
    "    \n",
    "    # Create MAE object as the actual formula for MAE\n",
    "    MAE = np.mean(np.abs(y_actual_values - y_predicted_values))\n",
    "    \n",
    "    # Use 'return' so Python will know to calculate (aka executing a process)\n",
    "    return MAE\n",
    "\n",
    "# Define the result of the calculation as an object\n",
    "## Display the result on console\n",
    "MAE_result = calculate_MAE(y_actual_values, y_predicted_values):\n",
    "print(f\"MAE: {MAE_result}\")"
   ]
  },
  {
   "cell_type": "markdown",
   "id": "1e3ea386",
   "metadata": {},
   "source": [
    "# 2. b)"
   ]
  },
  {
   "cell_type": "code",
   "execution_count": 19,
   "id": "a2e08dc1",
   "metadata": {},
   "outputs": [
    {
     "name": "stdout",
     "output_type": "stream",
     "text": [
      "The Mean Absolute Value (MAE) between the 'sale_price_pred' and 'sale_price' is: 37438.68916270548\n"
     ]
    }
   ],
   "source": [
    "# Import NumPy since we're working with arrays\n",
    "# Import Pandas to work with a dataset\n",
    "import numpy as np\n",
    "import pandas as pd\n",
    "\n",
    "# Define filepath (which is stored in the same directory as this Notebook) by giving Python the file name.\n",
    "dataset = pd.read_csv(\"housing_data.csv\")\n",
    "\n",
    "# Define actual and predicted prices as objects extracted from columns in the dataset\n",
    "actual_prices = dataset[\"sale_price\"]\n",
    "predicted_prices = dataset[\"sale_price_pred\"]\n",
    "\n",
    "# Define for Python the formula to find RMSE as a function\n",
    "def calculate_MAE(actual_prices, predicted_prices):\n",
    "    # Check if arrays are the same length (otherwise calculation will fail)\n",
    "    if len(actual_prices) != len(predicted_prices):\n",
    "        # Include custom ValueError to catch error from arrays of different lengths\n",
    "        raise ValueError(\"Input arrays are not the same length.\")\n",
    "    \n",
    "    # Create MAE object as the actual formula for MAE\n",
    "    MAE = np.mean(np.abs(predicted_prices - actual_prices))\n",
    "    \n",
    "    # Use 'return' so Python will know to calculate (aka executing a process)\n",
    "    return MAE\n",
    "\n",
    "# Define the result of the calculation as an object\n",
    "## Display the result on console\n",
    "MAE_result = calculate_MAE(actual_prices, predicted_prices)\n",
    "print(f\"The Mean Absolute Value (MAE) between the 'sale_price_pred' and 'sale_price' is: {MAE_result}\")"
   ]
  },
  {
   "cell_type": "markdown",
   "id": "ba81e67f",
   "metadata": {},
   "source": [
    "# 3. a)"
   ]
  },
  {
   "cell_type": "code",
   "execution_count": null,
   "id": "5df37da1",
   "metadata": {},
   "outputs": [],
   "source": [
    "# Once again, this is the base program (pseudocode) for part b)\n",
    "\n",
    "# Import Pandas to work with a dataset\n",
    "import pandas as pd\n",
    "\n",
    "# Define the accuracy calculation function\n",
    "def calculate_accuracy(actual, predicted):\n",
    "    \n",
    "    # The number of correct predictions must be summed up\n",
    "    ## The total predictions value can be found by using the column length\n",
    "    correct_predictions = sum(actual, predicted)\n",
    "    total_predictions = len(actual)\n",
    "    \n",
    "    # Define the actual formula as an object\n",
    "    accuracy = correct_predictions / total_predictions * 100\n",
    "    # Use 'return' so Python knows it is performing a calculation\n",
    "    return accuracy\n",
    "    \n",
    "# Provide the file location for Python and define mushroom data as .csv data type\n",
    "file_path = r'C:\\Users\\alana\\OneDrive\\Desktop\\DSC 320\\mushroom_data.csv'\n",
    "mushroom_data = pd.read_csv(file_path)\n",
    "\n",
    "# Define the actual and predicted values as integers so Python can perform the calculation\n",
    "actual_values = int(mushroom_data['actual'] == 'e')\n",
    "predicted_values = int(mushroom_data['predicted'] == 'e')\n",
    "\n",
    "# Set accuracy result as object\n",
    "## Display result on console\n",
    "result_accuracy = calculate_accuracy(actual, predicted)\n",
    "print(f\"Accuracy: {result_accuracy}%\")"
   ]
  },
  {
   "cell_type": "markdown",
   "id": "b940d274",
   "metadata": {},
   "source": [
    "# 3. b)"
   ]
  },
  {
   "cell_type": "code",
   "execution_count": 71,
   "id": "dff803ae",
   "metadata": {},
   "outputs": [
    {
     "name": "stdout",
     "output_type": "stream",
     "text": [
      "Accuracy: 84.71%\n"
     ]
    }
   ],
   "source": [
    "# Import Pandas to work with a dataset\n",
    "import pandas as pd\n",
    "\n",
    "# Define accuracy calculation function for Python\n",
    "def calculate_accuracy(actual, predicted):\n",
    "    \n",
    "    # Use 'zip()' function because we are combining the mushroom data, which is two lists (actual and predicted)\n",
    "    ## 'sum()' method used because we need to know the sum of correct predictions compared to total predictions\n",
    "    ### The sum of the total predictions can be found by measuring the length of the dataset columns (which are the same length)\n",
    "    correct_predictions = sum(a == p for a, p in zip(actual, predicted))\n",
    "    total_predictions = len(actual)\n",
    "    \n",
    "    # Accuracy formula defined as an object\n",
    "    accuracy = correct_predictions / total_predictions * 100\n",
    "    \n",
    "    # Use 'return' so Python knows it is performing a calculation\n",
    "    return accuracy\n",
    "\n",
    "# Provide file location for Python (this is custom to my computer, where the dataset is in the same directory as this Notebook)\n",
    "file_path = r'C:\\Users\\alana\\OneDrive\\Desktop\\DSC 320\\mushroom_data.csv'\n",
    "# Pass the dataset to a defined object\n",
    "mushroom_data = pd.read_csv(file_path)\n",
    "\n",
    "# Convert the alpha values in dataset to integers so Python can calculate them (avoids string error)\n",
    "actual_values = (mushroom_data['actual'] == 'e').astype(int)\n",
    "predicted_values = (mushroom_data['predicted'] == 'e').astype(int)\n",
    "\n",
    "# Pass calculation to new object\n",
    "## Display result on console\n",
    "result_accuracy = calculate_accuracy(actual_values, predicted_values)\n",
    "print(f\"Accuracy: {result_accuracy:.2f}%\")"
   ]
  },
  {
   "cell_type": "markdown",
   "id": "5ad34387",
   "metadata": {},
   "source": [
    "# 4. a)"
   ]
  },
  {
   "cell_type": "code",
   "execution_count": 87,
   "id": "5d68d7a6",
   "metadata": {
    "scrolled": true
   },
   "outputs": [
    {
     "data": {
      "image/png": "[encoded data removed]",
      "text/plain": [
       "<Figure size 640x480 with 1 Axes>"
      ]
     },
     "metadata": {},
     "output_type": "display_data"
    }
   ],
   "source": [
    "# Import NumPy to work with array\n",
    "import numpy as np\n",
    "# Import matplotlib library to create plots/graphs\n",
    "import matplotlib.pyplot as plt\n",
    "\n",
    "# Define the given error function\n",
    "## You can think of 'error(p)' as equal to 'f(p)'\n",
    "### Use 'return' so Python knows it is performing a calculation\n",
    "def error(p):\n",
    "    return 0.005 * p**6 - 0.27 * p**5 + 5.998 * p**4 - 69.919 * p**3 + 449.17 * p**2 - 1499.7 * p +2028\n",
    "\n",
    "# Use NumPy built-in 'linspace()' method for evenly-spaced increments on graph\n",
    "## Set x- and y-values as the p and error values\n",
    "p_values = np.linspace(0, 10, 100)\n",
    "error_values = error(p_values)\n",
    "\n",
    "# Create plot; include x-variable, y-variable, line color, and line label\n",
    "plt.plot(p_values, error_values, color = \"purple\", label = \"Error Function\")\n",
    "\n",
    "# Provide x- and y-axis labels\n",
    "plt.xlabel('(p) Parameter')\n",
    "plt.ylabel('Error')\n",
    "\n",
    "# Include title of graph with function\n",
    "## Include a legend - NOTE: Python will use the label defined in the plt.plot() method above\n",
    "plt.title('Graph of Error Function:\\n \\nf(p) = 0.005p^6 - 0.27p^5 + 5.998p^4 - 69.919p^3 + 449.17p^2 - 1499.7p + 2028\\n')\n",
    "plt.legend()\n",
    "\n",
    "# Include gridlines for easier visual analysis\n",
    "plt.grid(True)\n",
    "# Display the plot\n",
    "plt.show()"
   ]
  },
  {
   "cell_type": "markdown",
   "id": "82f0ccda",
   "metadata": {},
   "source": [
    "# 4. b)"
   ]
  },
  {
   "cell_type": "code",
   "execution_count": 89,
   "id": "8d78b6db",
   "metadata": {},
   "outputs": [
    {
     "name": "stdout",
     "output_type": "stream",
     "text": [
      "The value of p that minimizes the error is: p = 5\n"
     ]
    }
   ],
   "source": [
    "# Report result\n",
    "## Display the labeled result on console\n",
    "print(\"The value of p that minimizes the error is: p = 5\")"
   ]
  },
  {
   "cell_type": "markdown",
   "id": "de7132da",
   "metadata": {},
   "source": [
    "# 4. c)"
   ]
  },
  {
   "cell_type": "code",
   "execution_count": 88,
   "id": "9072ca5a",
   "metadata": {},
   "outputs": [
    {
     "name": "stdout",
     "output_type": "stream",
     "text": [
      "The minimum error is: 2\n"
     ]
    }
   ],
   "source": [
    "# Report result\n",
    "## Display the labeled result on console\n",
    "print(\"The minimum error is: 2\")"
   ]
  }
 ],
 "metadata": {
  "kernelspec": {
   "display_name": "Python 3 (ipykernel)",
   "language": "python",
   "name": "python3"
  },
  "language_info": {
   "codemirror_mode": {
    "name": "ipython",
    "version": 3
   },
   "file_extension": ".py",
   "mimetype": "text/x-python",
   "name": "python",
   "nbconvert_exporter": "python",
   "pygments_lexer": "ipython3",
   "version": "3.11.4"
  }
 },
 "nbformat": 4,
 "nbformat_minor": 5
}
